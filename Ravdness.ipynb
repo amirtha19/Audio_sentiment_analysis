{
 "cells": [
  {
   "cell_type": "code",
   "execution_count": 3,
   "id": "b76ab0e4-3e9d-412f-94b5-965347e64075",
   "metadata": {},
   "outputs": [],
   "source": [
    "import os\n",
    "import shutil\n",
    "\n",
    "# Define emotion labels and their corresponding codes\n",
    "emotion_labels = {\n",
    "    \"01\": \"NEUTRAL\",\n",
    "    \"02\": \"CALM\",\n",
    "    \"03\": \"HAPPY\",\n",
    "    \"04\": \"SAD\",\n",
    "    \"05\": \"ANGRY\",\n",
    "    \"06\": \"FEARFUL\",\n",
    "    \"07\": \"DISGUST\",\n",
    "    \"08\": \"SURPRISED\"\n",
    "}\n",
    "\n",
    "# Set the main folder path\n",
    "main_folder = r\"C:\\Users\\christ\\Downloads\\Amirthavarshini Sentimental analysis\\Ravdess emotional speech audio\"\n",
    "\n",
    "# Function to move files to emotion-specific folders within the main folder\n",
    "def move_files_to_emotion_folders(main_folder):\n",
    "    for root, dirs, files in os.walk(main_folder):\n",
    "        for filename in files:\n",
    "            # Extract the emotion code from the file name\n",
    "            parts = filename.split(\"-\")\n",
    "            if len(parts) == 7:\n",
    "                emotion_code = parts[2]\n",
    "                class_name = emotion_labels.get(emotion_code, \"UNKNOWN\")\n",
    "\n",
    "                # Create a folder for the class if it doesn't exist in the main folder\n",
    "                class_folder = os.path.join(main_folder, class_name)\n",
    "                if not os.path.exists(class_folder):\n",
    "                    os.mkdir(class_folder)\n",
    "\n",
    "                # Move the file to the class folder in the main folder\n",
    "                src_path = os.path.join(root, filename)\n",
    "                dest_path = os.path.join(class_folder, filename)\n",
    "                shutil.move(src_path, dest_path)\n",
    "\n",
    "# Move the files to emotion-specific folders within the main folder\n",
    "move_files_to_emotion_folders(main_folder)"
   ]
  },
  {
   "cell_type": "code",
   "execution_count": null,
   "id": "02ce25e1-fe7a-426c-8721-6ac174ec0468",
   "metadata": {},
   "outputs": [],
   "source": []
  }
 ],
 "metadata": {
  "kernelspec": {
   "display_name": "Python 3 (ipykernel)",
   "language": "python",
   "name": "python3"
  },
  "language_info": {
   "codemirror_mode": {
    "name": "ipython",
    "version": 3
   },
   "file_extension": ".py",
   "mimetype": "text/x-python",
   "name": "python",
   "nbconvert_exporter": "python",
   "pygments_lexer": "ipython3",
   "version": "3.11.0"
  }
 },
 "nbformat": 4,
 "nbformat_minor": 5
}
